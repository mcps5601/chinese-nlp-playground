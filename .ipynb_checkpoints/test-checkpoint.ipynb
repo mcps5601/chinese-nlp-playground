{
 "cells": [
  {
   "cell_type": "code",
   "execution_count": 1,
   "metadata": {},
   "outputs": [],
   "source": [
    "##### 參考網站: https://github.com/fxsjy/jieba \n",
    "import jieba"
   ]
  },
  {
   "cell_type": "code",
   "execution_count": 2,
   "metadata": {},
   "outputs": [
    {
     "name": "stderr",
     "output_type": "stream",
     "text": [
      "Building prefix dict from /usr/local/anaconda3/lib/python3.7/site-packages/jieba/dict.txt ...\n",
      "Dumping model to file cache /tmp/jieba.cache\n",
      "Loading model cost 0.8436343669891357 seconds.\n",
      "Prefix dict has been built succesfully.\n"
     ]
    },
    {
     "name": "stdout",
     "output_type": "stream",
     "text": [
      "Default Mode: 我/ 来到/ 北京/ 清华大学\n"
     ]
    }
   ],
   "source": [
    "seg_list = jieba.cut(\"我来到北京清华大学\", cut_all=False)  # cut_all=True 表示全模式\n",
    "print(\"Default Mode: \" + \"/ \".join(seg_list))  # 精確模式"
   ]
  },
  {
   "cell_type": "code",
   "execution_count": 10,
   "metadata": {},
   "outputs": [
    {
     "name": "stdout",
     "output_type": "stream",
     "text": [
      "我\n",
      "来到\n",
      "北京\n",
      "清华大学\n"
     ]
    }
   ],
   "source": [
    "seg_list = jieba.cut(\"我来到北京清华大学\", cut_all=False)\n",
    "for i in seg_list:\n",
    "    print(i)"
   ]
  },
  {
   "cell_type": "code",
   "execution_count": 14,
   "metadata": {},
   "outputs": [],
   "source": [
    "sentence_delimiters = ['?', '!', ';', '？', '！', '。', '；', '……', '…', '\\n']"
   ]
  },
  {
   "cell_type": "code",
   "execution_count": 1,
   "metadata": {},
   "outputs": [],
   "source": [
    "import unicodedata"
   ]
  },
  {
   "cell_type": "code",
   "execution_count": 12,
   "metadata": {},
   "outputs": [],
   "source": [
    "comma_ = ','"
   ]
  },
  {
   "cell_type": "code",
   "execution_count": 13,
   "metadata": {},
   "outputs": [
    {
     "data": {
      "text/plain": [
       "','"
      ]
     },
     "execution_count": 13,
     "metadata": {},
     "output_type": "execute_result"
    }
   ],
   "source": [
    "comma_"
   ]
  },
  {
   "cell_type": "code",
   "execution_count": 3,
   "metadata": {},
   "outputs": [],
   "source": [
    "dot = '。'\n",
    "\n",
    "dot2 = unicodedata.normalize('NFKC', dot)"
   ]
  },
  {
   "cell_type": "code",
   "execution_count": 5,
   "metadata": {},
   "outputs": [],
   "source": [
    "comma = '，'"
   ]
  },
  {
   "cell_type": "code",
   "execution_count": 7,
   "metadata": {},
   "outputs": [],
   "source": [
    "comma2 = unicodedata.normalize('NFKC', comma)"
   ]
  },
  {
   "cell_type": "code",
   "execution_count": 8,
   "metadata": {},
   "outputs": [
    {
     "data": {
      "text/plain": [
       "','"
      ]
     },
     "execution_count": 8,
     "metadata": {},
     "output_type": "execute_result"
    }
   ],
   "source": [
    "comma2"
   ]
  },
  {
   "cell_type": "code",
   "execution_count": 9,
   "metadata": {},
   "outputs": [
    {
     "data": {
      "text/plain": [
       "'，'"
      ]
     },
     "execution_count": 9,
     "metadata": {},
     "output_type": "execute_result"
    }
   ],
   "source": [
    "comma"
   ]
  },
  {
   "cell_type": "code",
   "execution_count": 4,
   "metadata": {},
   "outputs": [
    {
     "data": {
      "text/plain": [
       "'。'"
      ]
     },
     "execution_count": 4,
     "metadata": {},
     "output_type": "execute_result"
    }
   ],
   "source": [
    "dot2"
   ]
  },
  {
   "cell_type": "code",
   "execution_count": 15,
   "metadata": {},
   "outputs": [],
   "source": [
    "def as_text(v):  ## 生成unicode字符串\n",
    "    if v is None:\n",
    "        return None\n",
    "    elif isinstance(v, bytes):\n",
    "        return v.decode('utf-8', errors='ignore')\n",
    "    elif isinstance(v, str):\n",
    "        return v\n",
    "    else:\n",
    "        raise ValueError('Unknown type %r' % type(v))"
   ]
  },
  {
   "cell_type": "code",
   "execution_count": 23,
   "metadata": {},
   "outputs": [],
   "source": [
    "__DEBUG = None\n",
    "\n",
    "def debug(*args):\n",
    "    global __DEBUG\n",
    "    if __DEBUG is None:\n",
    "        try:\n",
    "            if os.environ['DEBUG'] == '1':\n",
    "                __DEBUG = True\n",
    "            else:\n",
    "                __DEBUG = False\n",
    "        except:\n",
    "            __DEBUG = False\n",
    "    if __DEBUG:\n",
    "        print( ' '.join([str(arg) for arg in args]) )"
   ]
  },
  {
   "cell_type": "code",
   "execution_count": 28,
   "metadata": {},
   "outputs": [],
   "source": [
    "class SentenceSegmentation(object):\n",
    "    \"\"\" 分句 \"\"\"\n",
    "    \n",
    "    def __init__(self, delimiters=sentence_delimiters):\n",
    "        \"\"\"\n",
    "        Keyword arguments:\n",
    "        delimiters -- 可迭代对象，用来拆分句子\n",
    "        \"\"\"\n",
    "        self.delimiters = set([as_text(item) for item in delimiters])\n",
    "    \n",
    "    def segment(self, text):\n",
    "        res = [as_text(text)]\n",
    "        \n",
    "        #debug(res)\n",
    "        #debug(self.delimiters)\n",
    "\n",
    "        for sep in self.delimiters:\n",
    "            text, res = res, []\n",
    "            for seq in text:\n",
    "                res += seq.split(sep)\n",
    "        res = [s.strip() for s in res if len(s.strip()) > 0]\n",
    "        return res "
   ]
  },
  {
   "cell_type": "code",
   "execution_count": 29,
   "metadata": {},
   "outputs": [],
   "source": [
    "seg = SentenceSegmentation()"
   ]
  },
  {
   "cell_type": "code",
   "execution_count": 30,
   "metadata": {},
   "outputs": [],
   "source": [
    "a = seg.segment('我愛你。你愛我。')"
   ]
  },
  {
   "cell_type": "code",
   "execution_count": 31,
   "metadata": {},
   "outputs": [
    {
     "data": {
      "text/plain": [
       "2"
      ]
     },
     "execution_count": 31,
     "metadata": {},
     "output_type": "execute_result"
    }
   ],
   "source": [
    "len(a)"
   ]
  },
  {
   "cell_type": "code",
   "execution_count": 32,
   "metadata": {},
   "outputs": [
    {
     "data": {
      "text/plain": [
       "['我愛你', '你愛我']"
      ]
     },
     "execution_count": 32,
     "metadata": {},
     "output_type": "execute_result"
    }
   ],
   "source": [
    "a"
   ]
  },
  {
   "cell_type": "code",
   "execution_count": 14,
   "metadata": {},
   "outputs": [],
   "source": [
    "text = 'U.S. Health and Human Services Secretary Alex Azar arrived in Taiwan Sunday, leading a U.S. delegation for a three-day visit during which he will meet President Tsai Ing-wen. This is the highest-level visit by an American official since the break in diplomatic relations between Washington and Taipei in 1979. The visit comes as relations between the United States and China have plunged to historic lows. Beijing has strongly and repeatedly objected to recognition of self-ruled Taiwan and has vowed to seize the island by force if necessary. Taiwan has recorded fewer than 500 COVID-19 cases and only seven deaths. U.S. Health and Human Services Secretary Alex Azar arrived in Taiwan Sunday, leading a U.S. delegation for a three-day visit during which he will meet President Tsai Ing-wen. This is the highest-level visit by an American official since the break in diplomatic relations between Washington and Taipei in 1979. The visit comes as relations between the United States and China have plunged to historic lows. Beijing has strongly and repeatedly objected to recognition of self-ruled Taiwan and has vowed to seize the island by force if necessary. Taiwan has recorded fewer than 500 COVID-19 cases and only seven deaths. U.S. Health and Human Services Secretary Alex Azar arrived in Taiwan Sunday, leading a U.S. delegation for a three-day visit during which he will meet President Tsai Ing-wen. This is the highest-level visit by an American official since the break in diplomatic relations between Washington and Taipei in 1979. The visit comes as relations between the United States and China have plunged to historic lows. Beijing has strongly and repeatedly objected to recognition of self-ruled Taiwan and has vowed to seize the island by force if necessary. Taiwan has recorded fewer than 500 COVID-19 cases and only seven deaths.'"
   ]
  },
  {
   "cell_type": "code",
   "execution_count": 15,
   "metadata": {},
   "outputs": [
    {
     "data": {
      "text/plain": [
       "['U.S.',\n",
       " 'Health',\n",
       " 'and',\n",
       " 'Human',\n",
       " 'Services',\n",
       " 'Secretary',\n",
       " 'Alex',\n",
       " 'Azar',\n",
       " 'arrived',\n",
       " 'in',\n",
       " 'Taiwan',\n",
       " 'Sunday,',\n",
       " 'leading',\n",
       " 'a',\n",
       " 'U.S.',\n",
       " 'delegation',\n",
       " 'for',\n",
       " 'a',\n",
       " 'three-day',\n",
       " 'visit',\n",
       " 'during',\n",
       " 'which',\n",
       " 'he',\n",
       " 'will',\n",
       " 'meet',\n",
       " 'President',\n",
       " 'Tsai',\n",
       " 'Ing-wen.',\n",
       " 'This',\n",
       " 'is',\n",
       " 'the',\n",
       " 'highest-level',\n",
       " 'visit',\n",
       " 'by',\n",
       " 'an',\n",
       " 'American',\n",
       " 'official',\n",
       " 'since',\n",
       " 'the',\n",
       " 'break',\n",
       " 'in',\n",
       " 'diplomatic',\n",
       " 'relations',\n",
       " 'between',\n",
       " 'Washington',\n",
       " 'and',\n",
       " 'Taipei',\n",
       " 'in',\n",
       " '1979.',\n",
       " 'The',\n",
       " 'visit',\n",
       " 'comes',\n",
       " 'as',\n",
       " 'relations',\n",
       " 'between',\n",
       " 'the',\n",
       " 'United',\n",
       " 'States',\n",
       " 'and',\n",
       " 'China',\n",
       " 'have',\n",
       " 'plunged',\n",
       " 'to',\n",
       " 'historic',\n",
       " 'lows.',\n",
       " 'Beijing',\n",
       " 'has',\n",
       " 'strongly',\n",
       " 'and',\n",
       " 'repeatedly',\n",
       " 'objected',\n",
       " 'to',\n",
       " 'recognition',\n",
       " 'of',\n",
       " 'self-ruled',\n",
       " 'Taiwan',\n",
       " 'and',\n",
       " 'has',\n",
       " 'vowed',\n",
       " 'to',\n",
       " 'seize',\n",
       " 'the',\n",
       " 'island',\n",
       " 'by',\n",
       " 'force',\n",
       " 'if',\n",
       " 'necessary.',\n",
       " 'Taiwan',\n",
       " 'has',\n",
       " 'recorded',\n",
       " 'fewer',\n",
       " 'than',\n",
       " '500',\n",
       " 'COVID-19',\n",
       " 'cases',\n",
       " 'and',\n",
       " 'only',\n",
       " 'seven',\n",
       " 'deaths.',\n",
       " 'U.S.',\n",
       " 'Health',\n",
       " 'and',\n",
       " 'Human',\n",
       " 'Services',\n",
       " 'Secretary',\n",
       " 'Alex',\n",
       " 'Azar',\n",
       " 'arrived',\n",
       " 'in',\n",
       " 'Taiwan',\n",
       " 'Sunday,',\n",
       " 'leading',\n",
       " 'a',\n",
       " 'U.S.',\n",
       " 'delegation',\n",
       " 'for',\n",
       " 'a',\n",
       " 'three-day',\n",
       " 'visit',\n",
       " 'during',\n",
       " 'which',\n",
       " 'he',\n",
       " 'will',\n",
       " 'meet',\n",
       " 'President',\n",
       " 'Tsai',\n",
       " 'Ing-wen.',\n",
       " 'This',\n",
       " 'is',\n",
       " 'the',\n",
       " 'highest-level',\n",
       " 'visit',\n",
       " 'by',\n",
       " 'an',\n",
       " 'American',\n",
       " 'official',\n",
       " 'since',\n",
       " 'the',\n",
       " 'break',\n",
       " 'in',\n",
       " 'diplomatic',\n",
       " 'relations',\n",
       " 'between',\n",
       " 'Washington',\n",
       " 'and',\n",
       " 'Taipei',\n",
       " 'in',\n",
       " '1979.',\n",
       " 'The',\n",
       " 'visit',\n",
       " 'comes',\n",
       " 'as',\n",
       " 'relations',\n",
       " 'between',\n",
       " 'the',\n",
       " 'United',\n",
       " 'States',\n",
       " 'and',\n",
       " 'China',\n",
       " 'have',\n",
       " 'plunged',\n",
       " 'to',\n",
       " 'historic',\n",
       " 'lows.',\n",
       " 'Beijing',\n",
       " 'has',\n",
       " 'strongly',\n",
       " 'and',\n",
       " 'repeatedly',\n",
       " 'objected',\n",
       " 'to',\n",
       " 'recognition',\n",
       " 'of',\n",
       " 'self-ruled',\n",
       " 'Taiwan',\n",
       " 'and',\n",
       " 'has',\n",
       " 'vowed',\n",
       " 'to',\n",
       " 'seize',\n",
       " 'the',\n",
       " 'island',\n",
       " 'by',\n",
       " 'force',\n",
       " 'if',\n",
       " 'necessary.',\n",
       " 'Taiwan',\n",
       " 'has',\n",
       " 'recorded',\n",
       " 'fewer',\n",
       " 'than',\n",
       " '500',\n",
       " 'COVID-19',\n",
       " 'cases',\n",
       " 'and',\n",
       " 'only',\n",
       " 'seven',\n",
       " 'deaths.',\n",
       " 'U.S.',\n",
       " 'Health',\n",
       " 'and',\n",
       " 'Human',\n",
       " 'Services',\n",
       " 'Secretary',\n",
       " 'Alex',\n",
       " 'Azar',\n",
       " 'arrived',\n",
       " 'in',\n",
       " 'Taiwan',\n",
       " 'Sunday,',\n",
       " 'leading',\n",
       " 'a',\n",
       " 'U.S.',\n",
       " 'delegation',\n",
       " 'for',\n",
       " 'a',\n",
       " 'three-day',\n",
       " 'visit',\n",
       " 'during',\n",
       " 'which',\n",
       " 'he',\n",
       " 'will',\n",
       " 'meet',\n",
       " 'President',\n",
       " 'Tsai',\n",
       " 'Ing-wen.',\n",
       " 'This',\n",
       " 'is',\n",
       " 'the',\n",
       " 'highest-level',\n",
       " 'visit',\n",
       " 'by',\n",
       " 'an',\n",
       " 'American',\n",
       " 'official',\n",
       " 'since',\n",
       " 'the',\n",
       " 'break',\n",
       " 'in',\n",
       " 'diplomatic',\n",
       " 'relations',\n",
       " 'between',\n",
       " 'Washington',\n",
       " 'and',\n",
       " 'Taipei',\n",
       " 'in',\n",
       " '1979.',\n",
       " 'The',\n",
       " 'visit',\n",
       " 'comes',\n",
       " 'as',\n",
       " 'relations',\n",
       " 'between',\n",
       " 'the',\n",
       " 'United',\n",
       " 'States',\n",
       " 'and',\n",
       " 'China',\n",
       " 'have',\n",
       " 'plunged',\n",
       " 'to',\n",
       " 'historic',\n",
       " 'lows.',\n",
       " 'Beijing',\n",
       " 'has',\n",
       " 'strongly',\n",
       " 'and',\n",
       " 'repeatedly',\n",
       " 'objected',\n",
       " 'to',\n",
       " 'recognition',\n",
       " 'of',\n",
       " 'self-ruled',\n",
       " 'Taiwan',\n",
       " 'and',\n",
       " 'has',\n",
       " 'vowed',\n",
       " 'to',\n",
       " 'seize',\n",
       " 'the',\n",
       " 'island',\n",
       " 'by',\n",
       " 'force',\n",
       " 'if',\n",
       " 'necessary.',\n",
       " 'Taiwan',\n",
       " 'has',\n",
       " 'recorded',\n",
       " 'fewer',\n",
       " 'than',\n",
       " '500',\n",
       " 'COVID-19',\n",
       " 'cases',\n",
       " 'and',\n",
       " 'only',\n",
       " 'seven',\n",
       " 'deaths.']"
      ]
     },
     "execution_count": 15,
     "metadata": {},
     "output_type": "execute_result"
    }
   ],
   "source": [
    "text.split()"
   ]
  },
  {
   "cell_type": "code",
   "execution_count": null,
   "metadata": {},
   "outputs": [],
   "source": []
  }
 ],
 "metadata": {
  "kernelspec": {
   "display_name": "Python 3",
   "language": "python",
   "name": "python3"
  },
  "language_info": {
   "codemirror_mode": {
    "name": "ipython",
    "version": 3
   },
   "file_extension": ".py",
   "mimetype": "text/x-python",
   "name": "python",
   "nbconvert_exporter": "python",
   "pygments_lexer": "ipython3",
   "version": "3.7.3"
  }
 },
 "nbformat": 4,
 "nbformat_minor": 4
}
