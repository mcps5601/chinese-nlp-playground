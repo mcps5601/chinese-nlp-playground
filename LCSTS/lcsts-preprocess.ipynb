{
 "cells": [
  {
   "cell_type": "code",
   "execution_count": 1,
   "metadata": {
    "_cell_guid": "b1076dfc-b9ad-4769-8c92-a6c4dae69d19",
    "_uuid": "8f2839f25d086af736a60e9eeb907d3b93b6e0e5"
   },
   "outputs": [
    {
     "name": "stdout",
     "output_type": "stream",
     "text": [
      "/kaggle/input/lcsts-dataset/PART_III.txt\n",
      "/kaggle/input/lcsts-dataset/PART_I.txt\n",
      "/kaggle/input/lcsts-dataset/PART_II.txt\n"
     ]
    }
   ],
   "source": [
    "# This Python 3 environment comes with many helpful analytics libraries installed\n",
    "# It is defined by the kaggle/python Docker image: https://github.com/kaggle/docker-python\n",
    "# For example, here's several helpful packages to load\n",
    "\n",
    "import numpy as np # linear algebra\n",
    "import pandas as pd # data processing, CSV file I/O (e.g. pd.read_csv)\n",
    "\n",
    "# Input data files are available in the read-only \"../input/\" directory\n",
    "# For example, running this (by clicking run or pressing Shift+Enter) will list all files under the input directory\n",
    "\n",
    "import os\n",
    "for dirname, _, filenames in os.walk('/kaggle/input'):\n",
    "    for filename in filenames:\n",
    "        print(os.path.join(dirname, filename))\n",
    "\n",
    "# You can write up to 5GB to the current directory (/kaggle/working/) that gets preserved as output when you create a version using \"Save & Run All\" \n",
    "# You can also write temporary files to /kaggle/temp/, but they won't be saved outside of the current session"
   ]
  },
  {
   "cell_type": "code",
   "execution_count": 2,
   "metadata": {},
   "outputs": [],
   "source": [
    "!mkdir /kaggle/working/LCSTS_DATA\n",
    "!cp /kaggle/input/lcsts-dataset/PART_I.txt /kaggle/working/LCSTS_DATA"
   ]
  },
  {
   "cell_type": "code",
   "execution_count": 1,
   "metadata": {},
   "outputs": [
    {
     "name": "stderr",
     "output_type": "stream",
     "text": [
      "/usr/local/anaconda3/lib/python3.7/site-packages/ipykernel_launcher.py:5: DeprecationWarning: 'U' mode is deprecated\n",
      "  \"\"\"\n"
     ]
    },
    {
     "name": "stdout",
     "output_type": "stream",
     "text": [
      "<doc id=2081211>\n",
      "\n",
      "    <summary>\n",
      "\n",
      "        RIRI&#M.A.C#圣诞限量彩妆系列\n",
      "\n",
      "    </summary>\n",
      "\n",
      "    <short_text>\n",
      "\n",
      "        今个系列特别推出指甲油、亮泽防水眼线液、炫目珍珠眼影组合、古铜蜜粉饼，与及双头设计的眼影扫。以独特的珍珠白色为包装，与RiRi签名的玫瑰金装饰细节点缀。12月13日限量登场！\n",
      "\n",
      "    </short_text>\n",
      "\n",
      "</doc>\n",
      "\n",
      "<doc id=2081212>\n",
      "\n",
      "    <summary>\n",
      "\n",
      "        网信办扫黄：封180多万微博、微信、QQ账号，欢迎举报\n",
      "\n",
      "    </summary>\n",
      "\n",
      "    <short_text>\n",
      "\n",
      "        今年开展“净网”专项行动以来，国家互联网信息办公室已依法关闭传播淫秽色情信息等违法违规的微博、微信、QQ账号共计180多万个。对此类账号，网民可提交给相关网站或通过互联网违法和不良信息举报中心进行举报。\n",
      "\n",
      "    </short_text>\n",
      "\n",
      "</doc>\n",
      "\n"
     ]
    }
   ],
   "source": [
    "file_path = '/data/datasets/LCSTS/PART_I.txt'\n",
    "file_path2 = '/data/datasets/LCSTS/newPART_I.txt'\n",
    "def show_wrongdata(file_path):\n",
    "    flag = 0\n",
    "    for count, line in enumerate(open(file_path,'rU')):\n",
    "        if count>=2081211*8:\n",
    "            print(line)\n",
    "            flag+=1\n",
    "            if flag>=16:\n",
    "                break\n",
    "show_wrongdata(file_path)"
   ]
  },
  {
   "cell_type": "code",
   "execution_count": 2,
   "metadata": {
    "_cell_guid": "79c7e3d0-c299-4dcb-8224-4455121ee9b0",
    "_uuid": "d629ff2d2480ee46fbb7e2d37f6b5fab8052498a"
   },
   "outputs": [
    {
     "name": "stderr",
     "output_type": "stream",
     "text": [
      "/usr/local/anaconda3/lib/python3.7/site-packages/ipykernel_launcher.py:5: DeprecationWarning: 'U' mode is deprecated\n",
      "  \"\"\"\n"
     ]
    },
    {
     "name": "stdout",
     "output_type": "stream",
     "text": [
      "<doc id=2081211>\n",
      "\n",
      "    <summary>\n",
      "\n",
      "        #M.A.C#圣诞限量彩妆系列\n",
      "\n",
      "    </summary>\n",
      "\n",
      "    <short_text>\n",
      "\n",
      "        今个系列特别推出指甲油、亮泽防水眼线液、炫目珍珠眼影组合、古铜蜜粉饼，与及双头设计的眼影扫。以独特的珍珠白色为包装，与RiRi签名的玫瑰金装饰细节点缀。12月13日限量登场！\n",
      "\n",
      "    </short_text>\n",
      "\n",
      "</doc>\n",
      "\n",
      "<doc id=2081212>\n",
      "\n",
      "    <summary>\n",
      "\n",
      "        网信办扫黄：封180多万微博、微信、QQ账号，欢迎举报\n",
      "\n",
      "    </summary>\n",
      "\n",
      "    <short_text>\n",
      "\n",
      "        今年开展“净网”专项行动以来，国家互联网信息办公室已依法关闭传播淫秽色情信息等违法违规的微博、微信、QQ账号共计180多万个。对此类账号，网民可提交给相关网站或通过互联网违法和不良信息举报中心进行举报。\n",
      "\n",
      "    </short_text>\n",
      "\n",
      "</doc>\n",
      "\n"
     ]
    }
   ],
   "source": [
    "def replace_wrongdata(file_path, file_path2):\n",
    "    p = open(file_path, 'r')\n",
    "    q = open(file_path2, 'w')\n",
    "    count = 0\n",
    "    for i in p:\n",
    "        count += 1\n",
    "        if count==(2081211*8+3):\n",
    "            i='        #M.A.C#圣诞限量彩妆系列\\n'\n",
    "        q.write(i)\n",
    "    p.close()\n",
    "    q.close()\n",
    "replace_wrongdata(file_path, file_path2)\n",
    "show_wrongdata(file_path2)\n"
   ]
  },
  {
   "cell_type": "code",
   "execution_count": 3,
   "metadata": {},
   "outputs": [
    {
     "name": "stdout",
     "output_type": "stream",
     "text": [
      "start process: valid\n",
      "\n"
     ]
    },
    {
     "name": "stderr",
     "output_type": "stream",
     "text": [
      "100%|██████████| 10666/10666 [00:00<00:00, 27226.72it/s]\n",
      "100%|██████████| 1106/1106 [00:00<00:00, 28175.17it/s]"
     ]
    },
    {
     "name": "stdout",
     "output_type": "stream",
     "text": [
      "start process: test\n",
      "\n"
     ]
    },
    {
     "name": "stderr",
     "output_type": "stream",
     "text": [
      "\n"
     ]
    }
   ],
   "source": [
    "from bs4 import BeautifulSoup\n",
    "import os\n",
    "from tqdm import tqdm\n",
    "\n",
    "INPUT = {\n",
    "    'valid': '/data/datasets/LCSTS/PART_II.txt',\n",
    "    'test': '/data/datasets/LCSTS/PART_III.txt',\n",
    "}\n",
    "\n",
    "OUTPUT_DIR = '/data/datasets/LCSTS/'\n",
    "\n",
    "qualify = {'valid':0, 'test':0}\n",
    "unqualify = {'valid':0, 'test':0}\n",
    "for key in INPUT:\n",
    "    print('start process: {}\\n'.format(key))\n",
    "    src_file = open(os.path.join(OUTPUT_DIR, key + '.src'), 'a+', encoding='utf-8')\n",
    "    tgt_file = open(os.path.join(OUTPUT_DIR, key + '.tgt'), 'a+', encoding='utf-8')\n",
    "\n",
    "    input_file_path = INPUT[key]\n",
    "    with open(input_file_path, encoding='utf-8') as file:\n",
    "        contents = file.read()\n",
    "        soup=BeautifulSoup(contents,'html.parser')\n",
    "        for doc in tqdm(soup.find_all('doc')):\n",
    "            short_text = doc.find('short_text').get_text()\n",
    "            summary = doc.find('summary').get_text()\n",
    "            human_label = doc.find('human_label').get_text()\n",
    "            if int(human_label)<=2:\n",
    "                unqualify[key] += 1\n",
    "            else:\n",
    "                 qualify[key] += 1\n",
    "                 src_file.write(short_text.strip() + '\\n')\n",
    "                 tgt_file.write(summary.strip() + '\\n')\n",
    "\n",
    "    src_file.close()\n",
    "    tgt_file.close()"
   ]
  },
  {
   "cell_type": "code",
   "execution_count": 6,
   "metadata": {},
   "outputs": [
    {
     "name": "stdout",
     "output_type": "stream",
     "text": [
      "start process: train\n",
      "\n"
     ]
    },
    {
     "name": "stderr",
     "output_type": "stream",
     "text": [
      "100%|██████████| 2400591/2400591 [01:45<00:00, 22650.51it/s]\n"
     ]
    }
   ],
   "source": [
    "INPUT = {\n",
    "    'train': '/kaggle/working/LCSTS_DATA/PART_I.txt',\n",
    "}\n",
    "for key in INPUT:\n",
    "    print('start process: {}\\n'.format(key))\n",
    "    src_file = open(os.path.join(OUTPUT_DIR, key + '.src'), 'a+', encoding='utf-8')\n",
    "    tgt_file = open(os.path.join(OUTPUT_DIR, key + '.tgt'), 'a+', encoding='utf-8')\n",
    "\n",
    "    input_file_path = INPUT[key]\n",
    "    with open(input_file_path, encoding='utf-8') as file:\n",
    "        contents = file.read()\n",
    "        soup=BeautifulSoup(contents,'html.parser')\n",
    "        for doc in tqdm(soup.find_all('doc')):\n",
    "            short_text = doc.find('short_text').get_text()\n",
    "            summary = doc.find('summary').get_text()\n",
    "            src_file.write(short_text.strip() + '\\n')\n",
    "            tgt_file.write(summary.strip() + '\\n')\n",
    "\n",
    "    src_file.close()\n",
    "    tgt_file.close()"
   ]
  },
  {
   "cell_type": "code",
   "execution_count": 7,
   "metadata": {},
   "outputs": [
    {
     "name": "stdout",
     "output_type": "stream",
     "text": [
      "{'valid': 1981, 'test': 381}\n",
      "{'valid': 8685, 'test': 725}\n"
     ]
    }
   ],
   "source": [
    "!rm /kaggle/working/LCSTS_DATA/PART_I.txt\n",
    "print(unqualify)\n",
    "print(qualify)"
   ]
  },
  {
   "cell_type": "code",
   "execution_count": null,
   "metadata": {},
   "outputs": [],
   "source": []
  }
 ],
 "metadata": {
  "kernelspec": {
   "display_name": "Python 3",
   "language": "python",
   "name": "python3"
  },
  "language_info": {
   "codemirror_mode": {
    "name": "ipython",
    "version": 3
   },
   "file_extension": ".py",
   "mimetype": "text/x-python",
   "name": "python",
   "nbconvert_exporter": "python",
   "pygments_lexer": "ipython3",
   "version": "3.7.3"
  }
 },
 "nbformat": 4,
 "nbformat_minor": 4
}
